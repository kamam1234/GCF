{
 "cells": [
  {
   "cell_type": "code",
   "execution_count": null,
   "id": "7284f5be",
   "metadata": {},
   "outputs": [
    {
     "ename": "",
     "evalue": "",
     "output_type": "error",
     "traceback": [
      "\u001b[1;31mRunning cells with 'Python 3.13.1' requires the ipykernel package.\n",
      "\u001b[1;31m<a href='command:jupyter.createPythonEnvAndSelectController'>Create a Python Environment</a> with the required packages.\n",
      "\u001b[1;31mOr install 'ipykernel' using the command: '\"c:/Program Files/Python313/python3.13t.exe\" -m pip install ipykernel -U --user --force-reinstall'"
     ]
    }
   ],
   "source": [
    "import requests\n",
    "\n",
    "get_url= \"https://jsonplaceholder.typicode.com/posts/1\"\n",
    "response_get = requests.get(get_url)\n",
    "print(\"GET Request Response:\")\n",
    "print(\"Status Code:\",response_get.status_code)\n",
    "\n",
    "#POST Request\n",
    "post_url = \"https://jsonplaceholder.typicode.com/posts\"\n",
    "\n",
    "#Data to  be sent in the POST Request\n",
    "post_data ={\n",
    "    \"title\":\"My New Post\",\n",
    "    \"body\":\"This is the content of the post.\",\n",
    "    \"userId\":1\n",
    " }\n",
    "\n",
    "response_post = requests.post(post_url,json=post_data)\n",
    "print(\"Post Request Response.\")\n",
    "print(\"status code:\",response_post.status_code)\n",
    "print(\"Data:\",response_post.json())"
   ]
  }
 ],
 "metadata": {
  "kernelspec": {
   "display_name": "Python 3",
   "language": "python",
   "name": "python3"
  },
  "language_info": {
   "name": "python",
   "version": "3.13.1"
  }
 },
 "nbformat": 4,
 "nbformat_minor": 5
}
