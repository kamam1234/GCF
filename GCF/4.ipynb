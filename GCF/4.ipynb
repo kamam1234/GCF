{
 "cells": [
  {
   "cell_type": "code",
   "execution_count": null,
   "id": "73007aa4",
   "metadata": {},
   "outputs": [
    {
     "ename": "",
     "evalue": "",
     "output_type": "error",
     "traceback": [
      "\u001b[1;31mRunning cells with '.venv (Python 3.13.1)' requires the ipykernel package.\n",
      "\u001b[1;31mInstall 'ipykernel' into the Python environment. \n",
      "\u001b[1;31mCommand: 'd:/GCF/.venv/Scripts/python.exe -m pip install ipykernel -U --force-reinstall'"
     ]
    }
   ],
   "source": [
    "import numpy as np\n"
   ]
  },
  {
   "cell_type": "code",
   "execution_count": null,
   "id": "e7434598",
   "metadata": {},
   "outputs": [],
   "source": [
    "a = np.array([[1, 2, 3], [4, 5, 6], [7, 8, 9]])\n",
    "print(type(a))\n",
    "print(f'Shape: {a.shape}')\n",
    "print(f\"Dtype: {a.dtype}\")\n",
    "print(f\"Dimension: {a.ndim}\")\n",
    "print(f\"Size: {a.size}\")\n",
    "print(f\"Item Size: {a.itemsize}\")\n",
    "print(f\"Bytes: {a.nbytes}\")\n",
    "print(f\"Flags: {a.flags}\")"
   ]
  },
  {
   "cell_type": "code",
   "execution_count": null,
   "id": "b05b9f71",
   "metadata": {},
   "outputs": [],
   "source": [
    "np.zeros((2, 3))"
   ]
  },
  {
   "cell_type": "code",
   "execution_count": null,
   "id": "b70cf89d",
   "metadata": {},
   "outputs": [],
   "source": [
    "np.ones((2, 3))"
   ]
  },
  {
   "cell_type": "code",
   "execution_count": null,
   "id": "6e6a6d70",
   "metadata": {},
   "outputs": [],
   "source": [
    "np.eye(3)\n",
    "print(np.eye(3).dtype)"
   ]
  },
  {
   "cell_type": "code",
   "execution_count": null,
   "id": "ffe478cb",
   "metadata": {},
   "outputs": [],
   "source": [
    "np.arange(1,10,2)"
   ]
  },
  {
   "cell_type": "code",
   "execution_count": null,
   "id": "95ba451c",
   "metadata": {},
   "outputs": [],
   "source": [
    "np.linspace(0, 1, 6)"
   ]
  },
  {
   "cell_type": "markdown",
   "id": "66386fb4",
   "metadata": {},
   "source": [
    "### Array Operations"
   ]
  },
  {
   "cell_type": "code",
   "execution_count": null,
   "id": "cfb9b69d",
   "metadata": {},
   "outputs": [],
   "source": [
    "arr = np.array([[1, 2, 3], [4, 5, 6]])\n",
    "print(arr[0, 1])  # Accessing element at row 0, column 1\n",
    "print(arr[1:2])  # Accessing element at row 1"
   ]
  },
  {
   "cell_type": "code",
   "execution_count": null,
   "id": "dd1a4699",
   "metadata": {},
   "outputs": [],
   "source": [
    "print(arr.reshape(3, 2))  # Reshaping to 3 rows and 2 columns\n",
    "print(arr.T)  # Transposing the array"
   ]
  },
  {
   "cell_type": "code",
   "execution_count": null,
   "id": "4586c34c",
   "metadata": {},
   "outputs": [],
   "source": [
    "arr.flatten()  # Flattening the array to 1D"
   ]
  },
  {
   "cell_type": "code",
   "execution_count": null,
   "id": "a03e96da",
   "metadata": {},
   "outputs": [],
   "source": [
    "arr"
   ]
  },
  {
   "cell_type": "code",
   "execution_count": null,
   "id": "a3b79be3",
   "metadata": {},
   "outputs": [],
   "source": [
    "x = np.array([1, 2, 3, 4])\n",
    "y = np.array([5, 6, 7, 8])\n",
    "print(x + y)  # Element-wise addition\n",
    "print(x - y)  # Element-wise subtraction\n",
    "print(x * y)  # Element-wise multiplication\n",
    "print(x / y)  # Element-wise division\n"
   ]
  },
  {
   "cell_type": "code",
   "execution_count": null,
   "id": "afdefb7c",
   "metadata": {},
   "outputs": [],
   "source": [
    "import math\n",
    "print(arr.sum())  # Sum of all elements\n",
    "print(arr.max())  # Sum along columns\n",
    "print(arr.min())  # Sum along rows\n",
    "print(arr.mean())  # Mean of all elements"
   ]
  },
  {
   "cell_type": "code",
   "execution_count": null,
   "id": "feef3df1",
   "metadata": {},
   "outputs": [],
   "source": [
    "import pandas as pd"
   ]
  },
  {
   "cell_type": "code",
   "execution_count": null,
   "id": "78785cf2",
   "metadata": {},
   "outputs": [],
   "source": [
    "data = {\n",
    "    \"name\" : [\"Alice\", \"Bob\", \"Charlie\"],\n",
    "    \"age\" : [25, 30, 40],\n",
    "    \"city\" : [\"New York\", \"Los Angeles\", \"Chicago\"]\n",
    "}\n",
    "df2 = pd.DataFrame(data)"
   ]
  },
  {
   "cell_type": "code",
   "execution_count": null,
   "id": "c06a96d4",
   "metadata": {},
   "outputs": [],
   "source": [
    "\n",
    "df = pd.read_csv(\"StudentsPerformance.csv\")\n",
    "df.head()  # Display the first few rows of the DataFrame"
   ]
  },
  {
   "cell_type": "code",
   "execution_count": null,
   "id": "966ded31",
   "metadata": {},
   "outputs": [],
   "source": [
    "df.tail()"
   ]
  },
  {
   "cell_type": "code",
   "execution_count": null,
   "id": "7f8a82b1",
   "metadata": {},
   "outputs": [],
   "source": [
    "df2 = pd.read_csv('train.csv')\n",
    "df2.head()"
   ]
  },
  {
   "cell_type": "code",
   "execution_count": null,
   "id": "1e4a811e",
   "metadata": {},
   "outputs": [],
   "source": [
    "print(df)"
   ]
  },
  {
   "cell_type": "code",
   "execution_count": null,
   "id": "e412ed2e",
   "metadata": {},
   "outputs": [],
   "source": [
    "print(df.to_string())"
   ]
  },
  {
   "cell_type": "code",
   "execution_count": null,
   "id": "b2b0dfe8",
   "metadata": {},
   "outputs": [],
   "source": [
    "df.head(1)"
   ]
  },
  {
   "cell_type": "code",
   "execution_count": null,
   "id": "0da1b57e",
   "metadata": {},
   "outputs": [],
   "source": [
    "avg = df[['math score', 'reading score', 'writing score']].mean()\n",
    "print(avg)"
   ]
  },
  {
   "cell_type": "code",
   "execution_count": null,
   "id": "36715b63",
   "metadata": {},
   "outputs": [],
   "source": [
    "df.info()  # Display information about the DataFrame"
   ]
  },
  {
   "cell_type": "code",
   "execution_count": null,
   "id": "7d547786",
   "metadata": {},
   "outputs": [],
   "source": [
    "(df.describe())  # Display summary statistics of the DataFrame"
   ]
  },
  {
   "cell_type": "code",
   "execution_count": null,
   "id": "a1811f6e",
   "metadata": {},
   "outputs": [],
   "source": [
    "df.isnull()"
   ]
  },
  {
   "cell_type": "code",
   "execution_count": null,
   "id": "d065fd78",
   "metadata": {},
   "outputs": [],
   "source": [
    "df['gender'].value_counts()  # Count occurrences"
   ]
  },
  {
   "cell_type": "code",
   "execution_count": null,
   "id": "cc718816",
   "metadata": {},
   "outputs": [],
   "source": [
    "df['gender']"
   ]
  },
  {
   "cell_type": "code",
   "execution_count": null,
   "id": "7939af90",
   "metadata": {},
   "outputs": [],
   "source": [
    "df.head()"
   ]
  },
  {
   "cell_type": "code",
   "execution_count": null,
   "id": "07bc84c0",
   "metadata": {},
   "outputs": [],
   "source": [
    "import matplotlib.pyplot as plt\n",
    "df['math score'].hist(bins=10, edgecolor='black')"
   ]
  },
  {
   "cell_type": "code",
   "execution_count": null,
   "id": "7ed30480",
   "metadata": {},
   "outputs": [],
   "source": [
    "plt.hist(df['math score'], bins=100)\n",
    "plt.title('Math Score Distribution')\n",
    "plt.xlabel('Math Score')\n",
    "plt.ylabel('Frequency')\n",
    "plt.show()"
   ]
  },
  {
   "cell_type": "code",
   "execution_count": null,
   "id": "7dc76b94",
   "metadata": {},
   "outputs": [],
   "source": []
  },
  {
   "cell_type": "code",
   "execution_count": null,
   "id": "449f323b",
   "metadata": {},
   "outputs": [],
   "source": [
    "# Scatter plot\n",
    "plt.scatter(df['math score'], df['reading score'], alpha=0.25, color='purple', edgecolor='black')\n",
    "plt.title('Math vs Reading Score')\n",
    "plt.xlabel('Math Score')\n",
    "plt.ylabel('Reading Score')\n",
    "plt.show()"
   ]
  },
  {
   "cell_type": "code",
   "execution_count": null,
   "id": "c1275802",
   "metadata": {},
   "outputs": [],
   "source": [
    "# Line plot\n",
    "avg.plot(kind='line', color='green', linewidth=2, marker='o', markersize=5, alpha=0.5)\n",
    "plt.title('Math vs Reading Score Line Plot')\n",
    "plt.xlabel('Math Score')\n",
    "plt.ylabel('Reading Score')\n",
    "plt.show()"
   ]
  },
  {
   "cell_type": "code",
   "execution_count": null,
   "id": "7ebc1139",
   "metadata": {},
   "outputs": [],
   "source": [
    "df['Avg'] = df[['math score', 'reading score', 'writing score']].mean(axis=1)\n",
    "sorted_df = df['Avg'].sort_values().reset_index(drop=True)\n",
    "plt.Figure(figsize=(10, 6))\n",
    "plt.plot(sorted_df, color='orange', alpha=0.7 ,marker='o', linewidth=2, markersize=1)\n",
    "plt.title('Average Score Distribution')\n",
    "plt.xlabel('Average Score')\n",
    "plt.ylabel('Frequency')\n",
    "plt.show()"
   ]
  },
  {
   "cell_type": "code",
   "execution_count": null,
   "id": "d749df47",
   "metadata": {},
   "outputs": [],
   "source": [
    "def gen():\n",
    "    lst = range(5)\n",
    "    for i in lst:\n",
    "        yield i * i\n",
    "for i in gen():\n",
    "    print(i, end='')"
   ]
  },
  {
   "cell_type": "code",
   "execution_count": null,
   "id": "ff39cd1c",
   "metadata": {},
   "outputs": [],
   "source": [
    "i=10\n",
    "while i>0:\n",
    "    i -= 3\n",
    "    print(\"*\")\n",
    "    if i<=3:\n",
    "        break\n",
    "    else:\n",
    "        print(\"*\")"
   ]
  },
  {
   "cell_type": "code",
   "execution_count": null,
   "id": "29c71443",
   "metadata": {},
   "outputs": [],
   "source": [
    "a = 0\n",
    "b = 0**0\n",
    "if b<a+1:\n",
    "    c=1\n",
    "elif b ==1:\n",
    "    c=2\n",
    "else:\n",
    "    c=3\n",
    "print(a+b+c)"
   ]
  },
  {
   "cell_type": "code",
   "execution_count": null,
   "id": "0e34dbe3",
   "metadata": {},
   "outputs": [],
   "source": [
    "help(plt)"
   ]
  },
  {
   "cell_type": "code",
   "execution_count": null,
   "id": "bb75dfbb",
   "metadata": {},
   "outputs": [],
   "source": [
    "df.plot(kind='line', x='math score', y='reading score', color='red', linewidth=1, marker='', markersize=1, alpha=0.95)\n",
    "plt.title('Math vs Reading Score Line Plot')\n",
    "plt.xlabel('Math Score')\n",
    "plt.ylabel('Reading Score') \n",
    "plt.show()"
   ]
  },
  {
   "cell_type": "code",
   "execution_count": null,
   "id": "4cfb85fd",
   "metadata": {},
   "outputs": [],
   "source": [
    "category = ['A', 'B', 'C', 'D']\n",
    "values = [10, 20, 15, 25]\n",
    "plt.bar(category, values, color='blue', alpha=0.7)\n",
    "plt.title('Bar Chart Example')\n",
    "plt.xlabel('Category')\n",
    "plt.ylabel('Values')\n",
    "plt.show()\n",
    "plt.savefig('bar.png', dpi=1000, bbox_inches='tight', pad_inches=0.1)"
   ]
  },
  {
   "cell_type": "code",
   "execution_count": null,
   "id": "f9611449",
   "metadata": {},
   "outputs": [],
   "source": [
    "try:\n",
    "    print(5+100)\n",
    "except Exception as e:\n",
    "    print(f\"An error occurred: {e}\")\n",
    "else:\n",
    "    print(\"No errors occurred, proceeding with the code.\")\n",
    "finally:\n",
    "    print(\"This block always executes, regardless of errors.\")"
   ]
  },
  {
   "cell_type": "code",
   "execution_count": null,
   "id": "21b7050a",
   "metadata": {},
   "outputs": [],
   "source": [
    "# /*************  ✨ Windsurf Command ⭐  *************/\n",
    "class Smartphone:\n",
    "    \"\"\"A class representing a smartphone with various functionalities.\"\"\"\n",
    "    def __init__(self):\n",
    "        self.is_on = False\n",
    "        self.is_sleeping = False\n",
    "        self.is_hibernating = False\n",
    "\n",
    "    def power_on(self):\n",
    "        \"\"\"Turn on the smartphone.\"\"\"\n",
    "        self.is_on = True\n",
    "        print(\"Smartphone is now on.\")\n",
    "\n",
    "    def power_off(self):\n",
    "        \"\"\"Turn off the smartphone.\"\"\"\n",
    "        self.is_on = False\n",
    "        print(\"Smartphone is now off.\")\n",
    "\n",
    "    def reboot(self):\n",
    "        \"\"\"Reboot the smartphone.\"\"\"\n",
    "        if self.is_on:\n",
    "            self.power_off()\n",
    "            self.power_on()\n",
    "        else:\n",
    "            print(\"Smartphone is already off, cannot reboot.\")\n",
    "\n",
    "    def hibernate(self):\n",
    "        \"\"\"Hibernate the smartphone.\"\"\"\n",
    "        if self.is_on:\n",
    "            self.is_hibernating = True\n",
    "            print(\"Smartphone is now hibernating.\")\n",
    "        else:\n",
    "            print(\"Smartphone is already off, cannot hibernate.\")\n",
    "\n",
    "    def wake_up(self):\n",
    "        \"\"\"Wake up the smartphone from hibernation.\"\"\"\n",
    "        if self.is_hibernating:\n",
    "            self.is_hibernating = False\n",
    "            print(\"Smartphone is now awake.\")\n",
    "        else:\n",
    "            print(\"Smartphone is not hibernating, cannot wake up.\")\n",
    "\n",
    "    def sleep(self):\n",
    "        \"\"\"Put the smartphone to sleep.\"\"\"\n",
    "        if self.is_on:\n",
    "            self.is_sleeping = True\n",
    "            print(\"Smartphone is now sleeping.\")\n",
    "        else:\n",
    "            print(\"Smartphone is already off, cannot sleep.\")\n",
    "\n",
    "    def wake_from_sleep(self):\n",
    "        \"\"\"Wake up the smartphone from sleep.\"\"\"\n",
    "        if self.is_sleeping:\n",
    "            self.is_sleeping = False\n",
    "            print(\"Smartphone is now awake.\")\n",
    "        else:\n",
    "            print(\"Smartphone is not sleeping, cannot wake up.\")\n",
    "# /*******  bb78b286-bd2f-41e6-a37f-b4391af55bdc  *******/"
   ]
  },
  {
   "cell_type": "code",
   "execution_count": null,
   "id": "c20e066f",
   "metadata": {},
   "outputs": [],
   "source": [
    "class A:\n",
    "    def greet(self):\n",
    "        print('A')\n",
    "    \n",
    "class C(A):\n",
    "    def greet(self):\n",
    "        print('C')\n",
    "    \n",
    "class B(A):\n",
    "    def greet(self):\n",
    "        print('From B')\n",
    "    \n",
    "class D(B,C):\n",
    "    pass\n",
    "\n",
    "D().greet()"
   ]
  },
  {
   "cell_type": "code",
   "execution_count": null,
   "id": "8ecbc59e",
   "metadata": {},
   "outputs": [],
   "source": []
  }
 ],
 "metadata": {
  "kernelspec": {
   "display_name": ".venv",
   "language": "python",
   "name": "python3"
  },
  "language_info": {
   "codemirror_mode": {
    "name": "ipython",
    "version": 3
   },
   "file_extension": ".py",
   "mimetype": "text/x-python",
   "name": "python",
   "nbconvert_exporter": "python",
   "pygments_lexer": "ipython3",
   "version": "3.13.1"
  }
 },
 "nbformat": 4,
 "nbformat_minor": 5
}
